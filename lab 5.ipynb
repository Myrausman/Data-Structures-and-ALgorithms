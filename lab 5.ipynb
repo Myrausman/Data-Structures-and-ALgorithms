{
 "cells": [
  {
   "cell_type": "code",
   "execution_count": 20,
   "id": "7f7bee49",
   "metadata": {},
   "outputs": [
    {
     "name": "stdout",
     "output_type": "stream",
     "text": [
      "False\n"
     ]
    }
   ],
   "source": [
    "def linearSearch( theValues , target ) :\n",
    "    n = len( theValues ) \n",
    "    for i in range( n ) :\n",
    "        # If the target is in the ith element , return True \n",
    "        if theValues[i] == target:\n",
    "            return True \n",
    "    return False # If not found, return False.\n",
    "values=([1,15,61,7,8])\n",
    "print(linearSearch(values,53))"
   ]
  },
  {
   "cell_type": "code",
   "execution_count": 19,
   "id": "8cf3d30e",
   "metadata": {},
   "outputs": [
    {
     "name": "stdout",
     "output_type": "stream",
     "text": [
      "False\n"
     ]
    }
   ],
   "source": [
    "def sortedLinearSearch( theValues , item ) : \n",
    "    n = len( theValues ) \n",
    "    for i in range( n ) : \n",
    "        if theValues[i] == item : \n",
    "            return True\n",
    "        elif theValues[i] > item : \n",
    "            return False \n",
    "        return False \n",
    "values=([1,15,61,7,8])\n",
    "print(sortedLinearSearch(values,53))        "
   ]
  },
  {
   "cell_type": "code",
   "execution_count": 18,
   "id": "b2e79c22",
   "metadata": {},
   "outputs": [
    {
     "name": "stdout",
     "output_type": "stream",
     "text": [
      "False\n"
     ]
    }
   ],
   "source": [
    "def binarySearch( theValues , target ) : \n",
    "    low = 0 \n",
    "    high = len(theValues) - 1 \n",
    "    while low <= high : \n",
    "        mid = (high + low) // 2 \n",
    "        if theValues[mid] == target : \n",
    "            return True \n",
    "        elif target < theValues[mid] : \n",
    "            high = mid - 1 \n",
    "            # Or does it follow the midpoint? \n",
    "        else : \n",
    "            low = mid + 1 \n",
    "            # If the sequence cannot be subdivided further , we’re done. \n",
    "            return False \n",
    "values=([1,15,61,7,8])\n",
    "print(binarySearch(values,53))  "
   ]
  },
  {
   "cell_type": "code",
   "execution_count": 17,
   "id": "b471d979",
   "metadata": {},
   "outputs": [
    {
     "name": "stdout",
     "output_type": "stream",
     "text": [
      "[1, 7, 8, 15, 61]\n"
     ]
    }
   ],
   "source": [
    "def bubbleSort( theSeq ):\n",
    "    n = len( theSeq )\n",
    "    for i in range( n - 1 ) :\n",
    "        for j in range(  n - 1-i ) :\n",
    "            if theSeq[j] > theSeq[j + 1] :\n",
    "                tmp = theSeq[j]\n",
    "                theSeq[j] = theSeq[j + 1]\n",
    "                theSeq[j + 1] = tmp\n",
    "    return theSeq\n",
    "values=([1,15,61,7,8])\n",
    "c=bubbleSort(values)\n",
    "print(c)"
   ]
  },
  {
   "cell_type": "code",
   "execution_count": 16,
   "id": "3be3a220",
   "metadata": {},
   "outputs": [
    {
     "name": "stdout",
     "output_type": "stream",
     "text": [
      "[1, 7, 8, 15, 61]\n"
     ]
    }
   ],
   "source": [
    " # Sorts a sequence in ascending order using the insertion sort algorithm . \n",
    "def insertionSort( theSeq ): \n",
    "    n = len( theSeq ) \n",
    "    for i in range( 1, n ) : \n",
    "        value = theSeq[i] \n",
    "        pos = i \n",
    "        while pos > 0 and value < theSeq[pos - 1] : \n",
    "            theSeq[pos] = theSeq[pos - 1] \n",
    "            pos -= 1  \n",
    "        theSeq[pos] = value \n",
    "    return theSeq\n",
    "values=([1,15,61,7,8])\n",
    "print(insertionSort(values))"
   ]
  },
  {
   "cell_type": "code",
   "execution_count": 15,
   "id": "6e156e85",
   "metadata": {},
   "outputs": [
    {
     "name": "stdout",
     "output_type": "stream",
     "text": [
      "[1, 15, 61, 7, 8]\n"
     ]
    }
   ],
   "source": [
    "def selectionSort( theSeq ):\n",
    "        n = len( theSeq )\n",
    "        for i in range( n - 1 ):\n",
    "            smallNdx = i\n",
    "            for j in range( i + 1, n ):\n",
    "                if theSeq[j] < theSeq[smallNdx] :\n",
    "                    smallNdx = j\n",
    "                if smallNdx != i :\n",
    "                    tmp = theSeq[i]\n",
    "                    theSeq[i] = theSeq[smallNdx]\n",
    "                    theSeq[smallNdx] = tmp\n",
    "            return(theSeq)        \n",
    "values=([1,15,61,7,8])  \n",
    "print(selectionSort(values))"
   ]
  },
  {
   "cell_type": "code",
   "execution_count": 34,
   "id": "c5e4e0f8",
   "metadata": {},
   "outputs": [
    {
     "name": "stdout",
     "output_type": "stream",
     "text": [
      "{4, 150, 75, 23, 86, 49}\n"
     ]
    }
   ],
   "source": [
    "class Set:\n",
    "    def __init__(self,*initElements):\n",
    "        self._elements= list(initElements)\n",
    "    def __len__(self):\n",
    "        return len(self._elements)\n",
    "    def __contains__(self,item):\n",
    "        return item in self._elements\n",
    "    def add( self, element ):\n",
    "        if element not in self :\n",
    "            ndx = self._findPosition( element )\n",
    "            self._elements.insert( ndx, element )\n",
    "    def remove( self, element ):\n",
    "        assert element in self,\"The element must be in the set.\"\n",
    "        ndx = self._findPosition( element )\n",
    "        self._elements.pop( ndx )\n",
    "    def __eq__(self,setB):\n",
    "        if len(self)!= len(setB):\n",
    "            return False\n",
    "        else:\n",
    "            return self.isSubsetOf(setB)\n",
    "    def isSubsetOf(self,setB):\n",
    "        for item in self:\n",
    "            if item not in setB:\n",
    "                return False\n",
    "        return True\n",
    "    def union(self,setB):\n",
    "        newSet=Set()\n",
    "        newSet._elements.extend(self._elements)\n",
    "        for item in setB:\n",
    "            if item not in self:\n",
    "                newSet._elements.append(item)\n",
    "        return newSet\n",
    "    def intersect(self,setB):\n",
    "        newSet=Set()\n",
    "        for item in self:\n",
    "            if item in setB:\n",
    "                newSet._elements.append(item)\n",
    "        return newSet\n",
    "    def difference(self,setB):\n",
    "        newSet=Set()\n",
    "        for item in self:\n",
    "            if item not in setB:\n",
    "                newSet._elements.append(item)\n",
    "        return newSet\n",
    "    def ProperSet(self,setB):\n",
    "        if len(self._elements) !=len (setB):\n",
    "            newSet=self.intersect(setB)\n",
    "            if len (newSet ) == len(self):\n",
    "                return True\n",
    "        else:\n",
    "            return False\n",
    "    def _findPosition( self, target ): \n",
    "        low = 0\n",
    "        high = len( self._elements )-1\n",
    "        while low <= high :\n",
    "            mid = (high + low) // 2\n",
    "            if self._elements[ mid ] == target :\n",
    "                return mid \n",
    "            elif target < self._elements[ mid ] :\n",
    "                high = mid-1\n",
    "            else:\n",
    "                low = mid + 1\n",
    "        return low      \n",
    "    def __str__(self):\n",
    "        x= str(self._elements)[1:-1]\n",
    "        return f\"{{{x}}}\"\n",
    "    def __iter__(self):\n",
    "        return _SetIterator(self._elements)\n",
    "class _SetIterator:\n",
    "    def __init__(self,elements):\n",
    "        self._elements=elements\n",
    "        self._curNdx=0\n",
    "    def __iter__(self):\n",
    "        return self\n",
    "    def __next__(self):\n",
    "        if self._curNdx <len(self._elements):\n",
    "            entry = self._elements[self._curNdx]\n",
    "            self._curNdx+=1\n",
    "            return entry\n",
    "        else:\n",
    "            raise StopIteration\n",
    "\n",
    "            \n",
    "\n",
    "A=Set(150,75,23,86,49)\n",
    "A=Set(150,75,23,86,49)\n",
    "\n",
    "A.add(4)\n",
    "print(A)\n",
    "\n"
   ]
  },
  {
   "cell_type": "code",
   "execution_count": 43,
   "id": "483468fc",
   "metadata": {},
   "outputs": [
    {
     "name": "stdout",
     "output_type": "stream",
     "text": [
      "3\n"
     ]
    }
   ],
   "source": [
    "def binarySearch( theValues , target ) : \n",
    "    low = 0 \n",
    "    high = len(theValues) - 1 \n",
    "    while low <= high : \n",
    "        mid = (high + low) // 2 \n",
    "        if theValues[mid] == target : \n",
    "             return mid\n",
    "        elif target < theValues[mid] : \n",
    "            high = mid - 1 \n",
    "        else : \n",
    "            low = mid + 1 \n",
    "    return False     \n",
    "values=([1,2,3,4,4,5,5,5,6,7,8])\n",
    "print(binarySearch(values,4))  "
   ]
  },
  {
   "cell_type": "code",
   "execution_count": 27,
   "id": "67b72904",
   "metadata": {},
   "outputs": [
    {
     "name": "stdout",
     "output_type": "stream",
     "text": [
      "[-2, -4, -5, -7]\n"
     ]
    }
   ],
   "source": [
    "def findNegative( theValues ) : \n",
    "    temp=[]\n",
    "    for i in theValues :\n",
    "        if i < 0:\n",
    "            temp.append(i)\n",
    "    return temp\n",
    "values=([1,-2,3,-4,4,-5,5,5,6,-7,8])\n",
    "print(findNegative(values))  "
   ]
  },
  {
   "cell_type": "code",
   "execution_count": 23,
   "id": "c7124e5c",
   "metadata": {},
   "outputs": [
    {
     "name": "stdout",
     "output_type": "stream",
     "text": [
      "[2, 7, 8, 20, 49]\n"
     ]
    }
   ],
   "source": [
    "from matplotlib import pyplot as plt \n",
    "class Bag:\n",
    "    def __init__(self):\n",
    "        self._theItems = list()\n",
    "\n",
    "    def __len__(self):\n",
    "        return len(self._theItems)\n",
    "\n",
    "    def __contains__(self, item):\n",
    "        return item in self._theItems\n",
    "    def add( self, element ):\n",
    "        if element not in self :\n",
    "            ndx = self._findPosition( element )\n",
    "            self._theItems.insert( ndx, element )\n",
    "    def remove( self, element ):\n",
    "        assert element in self,\"The element must be in the set.\"\n",
    "        ndx = self._findPosition( element )\n",
    "        self._theItems.pop( ndx )\n",
    "    def _findPosition( self, target ): \n",
    "        low = 0\n",
    "        high = len( self._theItems )-1\n",
    "        while low <= high :\n",
    "            mid = (high + low) // 2\n",
    "            if self._theItems[ mid ] == target :\n",
    "                return mid \n",
    "            elif target < self._theItems[ mid ] :\n",
    "                high = mid-1\n",
    "            else:\n",
    "                low = mid + 1\n",
    "        return low      \n",
    "    def __str__(self):\n",
    "        x= str(self._theItems)[1:-1]\n",
    "        return f\"[{x}]\"\n",
    "    def __iter__(self):\n",
    "        return _BagIterator(self._theItems)\n",
    "\n",
    "class _BagIterator:\n",
    "    def __init__(self, theList):\n",
    "        self._bagItems = theList\n",
    "        self._curItem = 0\n",
    "    def __iter__(self):\n",
    "        return self\n",
    "\n",
    "    def __next__(self):\n",
    "        if self._curItem < len(self._bagItems):\n",
    "            item = self._bagItems[self._curItem]\n",
    "            self._curItem += 1\n",
    "            return item\n",
    "        else:\n",
    "            raise StopIteration\n",
    "# def simulation(n): \n",
    "#     B =Bag()\n",
    "#     steps_version1=[0]*n \n",
    "#     steps_version2 = [0] * n \n",
    "#     for i in range(0,n): \n",
    "#         steps_version1[i]=B.add(i) \n",
    "#         steps_version2[i]=B.remove(i) \n",
    "#     x=list(range(n)) \n",
    "#     plt.plot(x,steps_version2) \n",
    "#     plt.plot(x, steps_version1) \n",
    "#     plt.grid(which='both') \n",
    "#     plt.xlabel(f'Input Size({n})')\n",
    "#     plt.ylabel('Number of Steps') \n",
    "#     plt.legend(['version2','version1']) \n",
    "#     plt.show() \n",
    "# simulation(50)\n",
    "B =Bag()\n",
    "B.add(49)\n",
    "B.add(7)\n",
    "B.add(20)\n",
    "B.add(2)\n",
    "B.add(8)\n",
    "print(B)"
   ]
  },
  {
   "cell_type": "code",
   "execution_count": 22,
   "id": "f5cdb5fd",
   "metadata": {},
   "outputs": [
    {
     "name": "stdout",
     "output_type": "stream",
     "text": [
      "True\n"
     ]
    }
   ],
   "source": [
    "class Map:\n",
    "    def __init__(self):\n",
    "        self._list = list()\n",
    "\n",
    "    def __len__(self):\n",
    "        return len(self._list)\n",
    "\n",
    "    def __contains__(self,element):\n",
    "        return element in self._list\n",
    "\n",
    "    def add(self,element):\n",
    "        self._list.append(element)\n",
    "\n",
    "    def remove(self,element):\n",
    "        assert element in self._list,\"Element Dosenot exist .\"\n",
    "        if element in self._list:\n",
    "            self._list.remove(element)\n",
    "\n",
    "    def __iter__(self):\n",
    "        return iter(self._list)\n",
    "\n",
    "    def binary_search(self,key):\n",
    "        first = 0\n",
    "        last = len( self._list ) - 1\n",
    "        found = False\n",
    "        while ( first <= last and not found ):\n",
    "            midpoint = ( first + last ) // 2\n",
    "            if self._list[ midpoint ][0] == key :\n",
    "                found = True\n",
    "            else:\n",
    "                if key < self._list [ midpoint ][0] :\n",
    "                    last = midpoint - 1\n",
    "                else:\n",
    "                    first = midpoint + 1\n",
    "        return found\n",
    "\n",
    "\n",
    "    def __getitem__(self,key):\n",
    "        for i in range(len(self._list)):\n",
    "            if self._list[i][0] == key:\n",
    "                return self._list[i][1]\n",
    "        return None\n",
    "    \n",
    "    def __setitem__(self,key,value):\n",
    "        for i in range(len(self._list)):\n",
    "            if self._list[i][0] == key:\n",
    "                self._list[i][1] = value\n",
    "                return\n",
    "        self._list.append([key,value])\n",
    "\n",
    "obj3 = Map()\n",
    "obj3.add([1,2])\n",
    "obj3.add([3,4])\n",
    "obj3.add([5,6])\n",
    "obj3.add([7,8])\n",
    "print(obj3.binary_search(3))"
   ]
  },
  {
   "cell_type": "code",
   "execution_count": null,
   "id": "939eacd8",
   "metadata": {},
   "outputs": [],
   "source": []
  }
 ],
 "metadata": {
  "kernelspec": {
   "display_name": "Python 3 (ipykernel)",
   "language": "python",
   "name": "python3"
  },
  "language_info": {
   "codemirror_mode": {
    "name": "ipython",
    "version": 3
   },
   "file_extension": ".py",
   "mimetype": "text/x-python",
   "name": "python",
   "nbconvert_exporter": "python",
   "pygments_lexer": "ipython3",
   "version": "3.9.12"
  }
 },
 "nbformat": 4,
 "nbformat_minor": 5
}
